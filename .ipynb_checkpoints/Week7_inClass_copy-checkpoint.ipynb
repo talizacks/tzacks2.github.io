{
 "cells": [
  {
   "cell_type": "code",
   "execution_count": 1,
   "id": "62c4d50c",
   "metadata": {},
   "outputs": [],
   "source": [
    "import pandas as pd\n",
    "import bqplot\n",
    "import numpy as np\n",
    "import traitlets\n",
    "import ipywidgets\n",
    "import matplotlib.pyplot as plt"
   ]
  },
  {
   "cell_type": "code",
   "execution_count": 2,
   "id": "4af04a74",
   "metadata": {},
   "outputs": [],
   "source": [
    "data = np.random.random((10,10,20))"
   ]
  },
  {
   "cell_type": "code",
   "execution_count": 3,
   "id": "58225fce",
   "metadata": {},
   "outputs": [
    {
     "data": {
      "text/plain": [
       "(10, 10, 20)"
      ]
     },
     "execution_count": 3,
     "metadata": {},
     "output_type": "execute_result"
    }
   ],
   "source": [
    "data.shape"
   ]
  },
  {
   "cell_type": "code",
   "execution_count": 4,
   "id": "03ab77a0",
   "metadata": {},
   "outputs": [
    {
     "data": {
      "text/plain": [
       "array([0.07733655, 0.15192373, 0.19251766, 0.00999387, 0.3844383 ,\n",
       "       0.24761928, 0.53921492, 0.74318931, 0.0875797 , 0.35591159,\n",
       "       0.56937729, 0.72305888, 0.64469153, 0.47219409, 0.77590891,\n",
       "       0.70535283, 0.93697496, 0.56585535, 0.87250684, 0.14173343])"
      ]
     },
     "execution_count": 4,
     "metadata": {},
     "output_type": "execute_result"
    }
   ],
   "source": [
    "data[0,0,:]"
   ]
  },
  {
   "cell_type": "code",
   "execution_count": 5,
   "id": "d91ee7e1",
   "metadata": {},
   "outputs": [],
   "source": [
    "myLabel = ipywidgets.Label()"
   ]
  },
  {
   "cell_type": "code",
   "execution_count": 6,
   "id": "1822b5b6",
   "metadata": {},
   "outputs": [],
   "source": [
    "myLabel.value = str(data[0,0,:].mean())"
   ]
  },
  {
   "cell_type": "code",
   "execution_count": 7,
   "id": "1c529f62",
   "metadata": {},
   "outputs": [
    {
     "data": {
      "application/vnd.jupyter.widget-view+json": {
       "model_id": "356dfe61ca2545958039fef5ae51af87",
       "version_major": 2,
       "version_minor": 0
      },
      "text/plain": [
       "Label(value='0.45986895058286753')"
      ]
     },
     "metadata": {},
     "output_type": "display_data"
    }
   ],
   "source": [
    "myLabel"
   ]
  },
  {
   "cell_type": "code",
   "execution_count": 8,
   "id": "ab5f2930",
   "metadata": {},
   "outputs": [
    {
     "data": {
      "text/plain": [
       "(10, 10)"
      ]
     },
     "execution_count": 8,
     "metadata": {},
     "output_type": "execute_result"
    }
   ],
   "source": [
    "data.mean(axis=2).shape"
   ]
  },
  {
   "cell_type": "code",
   "execution_count": 9,
   "id": "49efd314",
   "metadata": {},
   "outputs": [],
   "source": [
    "#\"on selection\" function\n",
    "def on_selected(change):\n",
    "    if len(change['owner'].selected) == 1: #allowed to select only one bin at a time\n",
    "        i, j = change['owner'].selected[0]\n",
    "        print(i,j)"
   ]
  },
  {
   "cell_type": "code",
   "execution_count": 10,
   "id": "f90967fe",
   "metadata": {
    "scrolled": true
   },
   "outputs": [
    {
     "data": {
      "application/vnd.jupyter.widget-view+json": {
       "model_id": "8f61055c54884250a6e5229b9f56ea44",
       "version_major": 2,
       "version_minor": 0
      },
      "text/plain": [
       "VBox(children=(Label(value='0.45986895058286753'), Figure(axes=[ColorAxis(orientation='vertical', scale=ColorS…"
      ]
     },
     "metadata": {},
     "output_type": "display_data"
    }
   ],
   "source": [
    "#1. data (random dataset)\n",
    "\n",
    "#2. scales\n",
    "col_sc = bqplot.ColorScale(scheme='Greens')\n",
    "x_sc = bqplot.OrdinalScale()\n",
    "y_sc = bqplot.OrdinalScale()\n",
    "\n",
    "#3. axes\n",
    "ax_col = bqplot.ColorAxis(scale = col_sc, orientation = 'vertical', side = 'right')\n",
    "ax_x = bqplot.Axis(scale = x_sc)\n",
    "ax_y = bqplot.Axis(scale = y_sc, orientation = 'vertical')\n",
    "\n",
    "#4. mark\n",
    "heat_map = bqplot.GridHeatMap(color = data.mean(axis = 2),\n",
    "                             scales = {'color':col_sc,'row':y_sc,'column':x_sc},\n",
    "                             interactions = {'click':'select'},\n",
    "                             selected_style = {'fill':'magenta'})\n",
    "# 5. interaction, cont.\n",
    "heat_map.observe(on_selected,'selected')\n",
    "\n",
    "# combine into a figure\n",
    "fig = bqplot.Figure(marks=[heat_map],axes=[ax_col, ax_x, ax_y])\n",
    "\n",
    "# Finally dashboard\n",
    "myDashboard = ipywidgets.VBox([myLabel,fig])\n",
    "myDashboard"
   ]
  },
  {
   "cell_type": "code",
   "execution_count": 11,
   "id": "438f469a",
   "metadata": {},
   "outputs": [],
   "source": [
    "#\"on selection\" function\n",
    "def on_selected(change):\n",
    "    if len(change['owner'].selected) == 1: #allowed to select only one bin at a time\n",
    "        i, j = change['owner'].selected[0]\n",
    "        v = data[i,j,:].mean()\n",
    "        myLabel.value = 'Mean Data Value for Selection: ' + str(v)"
   ]
  },
  {
   "cell_type": "code",
   "execution_count": 12,
   "id": "6fac9004",
   "metadata": {},
   "outputs": [
    {
     "data": {
      "application/vnd.jupyter.widget-view+json": {
       "model_id": "70681e369fd9434cb06c6278a0bafe45",
       "version_major": 2,
       "version_minor": 0
      },
      "text/plain": [
       "VBox(children=(Label(value='0.45986895058286753'), Figure(axes=[ColorAxis(orientation='vertical', scale=ColorS…"
      ]
     },
     "metadata": {},
     "output_type": "display_data"
    }
   ],
   "source": [
    "#1. data (random dataset)\n",
    "\n",
    "#2. scales\n",
    "col_sc = bqplot.ColorScale(scheme='Greens')\n",
    "x_sc = bqplot.OrdinalScale()\n",
    "y_sc = bqplot.OrdinalScale()\n",
    "\n",
    "#3. axes\n",
    "ax_col = bqplot.ColorAxis(scale = col_sc, orientation = 'vertical', side = 'right')\n",
    "ax_x = bqplot.Axis(scale = x_sc)\n",
    "ax_y = bqplot.Axis(scale = y_sc, orientation = 'vertical')\n",
    "\n",
    "#4. mark\n",
    "heat_map = bqplot.GridHeatMap(color = data.mean(axis = 2),\n",
    "                             scales = {'color':col_sc,'row':y_sc,'column':x_sc},\n",
    "                             interactions = {'click':'select'},\n",
    "                             selected_style = {'fill':'magenta'})\n",
    "# 5. interaction, cont.\n",
    "heat_map.observe(on_selected,'selected')\n",
    "\n",
    "# combine into a figure\n",
    "fig = bqplot.Figure(marks=[heat_map],axes=[ax_col, ax_x, ax_y])\n",
    "\n",
    "# Finally dashboard\n",
    "myDashboard = ipywidgets.VBox([myLabel,fig])\n",
    "myDashboard"
   ]
  },
  {
   "cell_type": "code",
   "execution_count": 14,
   "id": "a4d91d21",
   "metadata": {},
   "outputs": [
    {
     "data": {
      "text/plain": [
       "array([0.07733655, 0.15192373, 0.19251766, 0.00999387, 0.3844383 ,\n",
       "       0.24761928, 0.53921492, 0.74318931, 0.0875797 , 0.35591159,\n",
       "       0.56937729, 0.72305888, 0.64469153, 0.47219409, 0.77590891,\n",
       "       0.70535283, 0.93697496, 0.56585535, 0.87250684, 0.14173343])"
      ]
     },
     "execution_count": 14,
     "metadata": {},
     "output_type": "execute_result"
    }
   ],
   "source": [
    "# data\n",
    "i,j = 0,0\n",
    "data[i,j]"
   ]
  },
  {
   "cell_type": "code",
   "execution_count": 15,
   "id": "cd3c4885",
   "metadata": {},
   "outputs": [],
   "source": [
    "#2 scales\n",
    "x_sch = bqplot.LinearScale()\n",
    "y_sch = bqplot.LinearScale()\n",
    "\n",
    "#3 axis\n",
    "x_axh = bqplot.Axis(scale = x_sch, label = 'Value of 3rd axis')\n",
    "y_axh = bqplot.Axis(scale = y_sch, \n",
    "                    orientation = 'vertical', \n",
    "                    label='Frequency')"
   ]
  },
  {
   "cell_type": "code",
   "execution_count": 16,
   "id": "5336519e",
   "metadata": {},
   "outputs": [],
   "source": [
    "hist = bqplot.Hist(sample = data[i,j,:], # note: we are \"hard coding\" the x/y indicies as i,j\n",
    "                   normalized = False, # normalized=False means we get counts in each bin\n",
    "                   scales = {'sample': x_sch, 'count': y_sch}, # sample is data values, count is frequency\n",
    "                   bins = 5) # number of bins"
   ]
  },
  {
   "cell_type": "code",
   "execution_count": 17,
   "id": "b07e1aa9",
   "metadata": {},
   "outputs": [
    {
     "data": {
      "application/vnd.jupyter.widget-view+json": {
       "model_id": "37b9e5ed16bf4706b83ec1d4dd5e5c1f",
       "version_major": 2,
       "version_minor": 0
      },
      "text/plain": [
       "Figure(axes=[Axis(label='Value of 3rd axis', scale=LinearScale(), side='bottom'), Axis(label='Frequency', orie…"
      ]
     },
     "metadata": {},
     "output_type": "display_data"
    }
   ],
   "source": [
    "figh = bqplot.Figure(marks = [hist], axes = [x_axh, y_axh])\n",
    "figh # your's might look different because you have different random numbers!"
   ]
  },
  {
   "cell_type": "code",
   "execution_count": 18,
   "id": "e40baf1f",
   "metadata": {},
   "outputs": [
    {
     "data": {
      "text/plain": [
       "array([0.07733655, 0.15192373, 0.19251766, 0.00999387, 0.3844383 ,\n",
       "       0.24761928, 0.53921492, 0.74318931, 0.0875797 , 0.35591159,\n",
       "       0.56937729, 0.72305888, 0.64469153, 0.47219409, 0.77590891,\n",
       "       0.70535283, 0.93697496, 0.56585535, 0.87250684, 0.14173343])"
      ]
     },
     "execution_count": 18,
     "metadata": {},
     "output_type": "execute_result"
    }
   ],
   "source": [
    "hist.sample"
   ]
  },
  {
   "cell_type": "code",
   "execution_count": 19,
   "id": "194214fc",
   "metadata": {},
   "outputs": [],
   "source": [
    "#### GRID HEAT MAP\n",
    "##Left, the driver, no changes\n",
    "#1. data (random dataset)\n",
    "\n",
    "#2. scales\n",
    "col_sc = bqplot.ColorScale(scheme='Greens')\n",
    "x_sc = bqplot.OrdinalScale()\n",
    "y_sc = bqplot.OrdinalScale()\n",
    "\n",
    "#3. axes\n",
    "ax_col = bqplot.ColorAxis(scale = col_sc, orientation = 'vertical', side = 'right')\n",
    "ax_x = bqplot.Axis(scale = x_sc)\n",
    "ax_y = bqplot.Axis(scale = y_sc, orientation = 'vertical')\n",
    "\n",
    "#4. mark\n",
    "heat_map = bqplot.GridHeatMap(color = data.mean(axis = 2),\n",
    "                             scales = {'color':col_sc,'row':y_sc,'column':x_sc},\n",
    "                             interactions = {'click':'select'},\n",
    "                             selected_style = {'fill':'magenta'})\n",
    "# 5. interaction, cont.\n",
    "# heat_map.observe(on_selected,'selected')\n",
    "\n",
    "# combine into a figure\n",
    "fig = bqplot.Figure(marks=[heat_map],axes=[ax_col, ax_x, ax_y])"
   ]
  },
  {
   "cell_type": "code",
   "execution_count": 20,
   "id": "86365f15",
   "metadata": {},
   "outputs": [],
   "source": [
    "###HISTOGRAM##\n",
    "#2 scales\n",
    "x_sch = bqplot.LinearScale()\n",
    "y_sch = bqplot.LinearScale()\n",
    "\n",
    "#3 axis\n",
    "x_axh = bqplot.Axis(scale = x_sch, label = 'Value of 3rd axis')\n",
    "y_axh = bqplot.Axis(scale = y_sch, \n",
    "                    orientation = 'vertical', \n",
    "                    label='Frequency')\n",
    "hist = bqplot.Hist(sample = data[i,j,:], # note: we are \"hard coding\" the x/y indicies as i,j\n",
    "                   normalized = False, # normalized=False means we get counts in each bin\n",
    "                   scales = {'sample': x_sch, 'count': y_sch}, # sample is data values, count is frequency\n",
    "                   bins = 5)\n",
    "figh = bqplot.Figure(marks = [hist], axes = [x_axh, y_axh])"
   ]
  },
  {
   "cell_type": "code",
   "execution_count": 21,
   "id": "9856fcb1",
   "metadata": {},
   "outputs": [],
   "source": [
    "def on_selected(change):\n",
    "    if len(change['owner'].selected) == 1: #allowed to select only one bin at a time\n",
    "        i, j = change['owner'].selected[0]\n",
    "        v = data[i,j,:].mean()\n",
    "        myLabel.value = 'Mean Data Value for Selection: ' + str(v)\n",
    "        hist.sample = data[i,j,:]"
   ]
  },
  {
   "cell_type": "code",
   "execution_count": 22,
   "id": "ed3c887f",
   "metadata": {},
   "outputs": [],
   "source": [
    "## Make sure we have heatmap observes with this function\n",
    "heat_map.observe(on_selected,'selected')"
   ]
  },
  {
   "cell_type": "code",
   "execution_count": 23,
   "id": "42419d33",
   "metadata": {},
   "outputs": [],
   "source": [
    "# Finally dashboard\n",
    "fig.layout.min_width = '400px'\n",
    "figh.layout.min_width = '400px'\n",
    "figures = ipywidgets.HBox([fig,figh])\n",
    "myDashboard = ipywidgets.VBox([myLabel,figures])"
   ]
  },
  {
   "cell_type": "code",
   "execution_count": 24,
   "id": "e507abbb",
   "metadata": {},
   "outputs": [
    {
     "data": {
      "application/vnd.jupyter.widget-view+json": {
       "model_id": "503ffb0d28294e719f14da6cb852adf0",
       "version_major": 2,
       "version_minor": 0
      },
      "text/plain": [
       "VBox(children=(Label(value='Mean Data Value for Selection: 0.48087913643415997'), HBox(children=(Figure(axes=[…"
      ]
     },
     "metadata": {},
     "output_type": "display_data"
    }
   ],
   "source": [
    "myDashboard"
   ]
  },
  {
   "cell_type": "code",
   "execution_count": 25,
   "id": "7b4efc9e",
   "metadata": {},
   "outputs": [
    {
     "data": {
      "text/plain": [
       "['_model_module',\n",
       " '_model_module_version',\n",
       " '_model_name',\n",
       " '_view_count',\n",
       " '_view_module',\n",
       " '_view_module_version',\n",
       " '_view_name',\n",
       " 'apply_clip',\n",
       " 'bins',\n",
       " 'colors',\n",
       " 'count',\n",
       " 'display_legend',\n",
       " 'enable_hover',\n",
       " 'interactions',\n",
       " 'labels',\n",
       " 'midpoints',\n",
       " 'normalized',\n",
       " 'opacities',\n",
       " 'preserve_domain',\n",
       " 'sample',\n",
       " 'scales',\n",
       " 'scales_metadata',\n",
       " 'selected',\n",
       " 'selected_style',\n",
       " 'stroke',\n",
       " 'tooltip',\n",
       " 'tooltip_location',\n",
       " 'tooltip_style',\n",
       " 'unselected_style',\n",
       " 'visible']"
      ]
     },
     "execution_count": 25,
     "metadata": {},
     "output_type": "execute_result"
    }
   ],
   "source": [
    "hist.keys"
   ]
  },
  {
   "cell_type": "code",
   "execution_count": 70,
   "id": "d8065da3",
   "metadata": {},
   "outputs": [],
   "source": [
    "hist.colors='lightblue'"
   ]
  },
  {
   "cell_type": "code",
   "execution_count": 71,
   "id": "daa353c8",
   "metadata": {},
   "outputs": [],
   "source": [
    "hist.bins = 10"
   ]
  },
  {
   "cell_type": "code",
   "execution_count": 72,
   "id": "c67aa3ba",
   "metadata": {},
   "outputs": [],
   "source": [
    "bin_slider = ipywidgets.IntSlider(min=1,max=data.shape[2],value=5)"
   ]
  },
  {
   "cell_type": "code",
   "execution_count": 74,
   "id": "7d07e96f",
   "metadata": {},
   "outputs": [
    {
     "data": {
      "application/vnd.jupyter.widget-view+json": {
       "model_id": "d98756e2001d4a47ba3ece0f7c0706e8",
       "version_major": 2,
       "version_minor": 0
      },
      "text/plain": [
       "IntSlider(value=5, max=20, min=1)"
      ]
     },
     "metadata": {},
     "output_type": "display_data"
    }
   ],
   "source": [
    "bin_slider"
   ]
  },
  {
   "cell_type": "code",
   "execution_count": 75,
   "id": "6e5050da",
   "metadata": {},
   "outputs": [
    {
     "data": {
      "text/plain": [
       "18"
      ]
     },
     "execution_count": 75,
     "metadata": {},
     "output_type": "execute_result"
    }
   ],
   "source": [
    "bin_slider.value"
   ]
  },
  {
   "cell_type": "code",
   "execution_count": 76,
   "id": "4183039d",
   "metadata": {},
   "outputs": [
    {
     "data": {
      "text/plain": [
       "Link(source=(IntSlider(value=18, max=20, min=1), 'value'), target=(Hist(colors=['lightblue'], count=array([4.,…"
      ]
     },
     "metadata": {},
     "output_type": "display_data"
    }
   ],
   "source": [
    "ipywidgets.jslink((bin_slider,'value'),(hist,'bins'))"
   ]
  },
  {
   "cell_type": "code",
   "execution_count": 79,
   "id": "026a5a42",
   "metadata": {},
   "outputs": [],
   "source": [
    "controls =ipywidgets.HBox([myLabel,bin_slider])\n",
    "figures = ipywidgets.HBox([fig,figh])\n",
    "myDashboard = ipywidgets.VBox([controls,figures])"
   ]
  },
  {
   "cell_type": "code",
   "execution_count": 80,
   "id": "5d74675f",
   "metadata": {},
   "outputs": [
    {
     "data": {
      "application/vnd.jupyter.widget-view+json": {
       "model_id": "d08314e955934263a0d49e84d1dcd39f",
       "version_major": 2,
       "version_minor": 0
      },
      "text/plain": [
       "VBox(children=(HBox(children=(Label(value='Mean Data Value for Selection: 0.520226511695931'), IntSlider(value…"
      ]
     },
     "metadata": {},
     "output_type": "display_data"
    }
   ],
   "source": [
    "myDashboard"
   ]
  },
  {
   "cell_type": "markdown",
   "id": "cde62238",
   "metadata": {},
   "source": [
    "# Dashboards with \"real\" data"
   ]
  },
  {
   "cell_type": "code",
   "execution_count": 26,
   "id": "67c9701a",
   "metadata": {},
   "outputs": [],
   "source": [
    "ufos = pd.read_csv(\"https://uiuc-ischool-dataviz.github.io/spring2019online/week04/data/ufo-scrubbed-geocoded-time-standardized-00.csv\",\n",
    "                  names = [\"date\", \"city\", \"state\", \"country\",\n",
    "                          \"shape\", \"duration_seconds\", \"duration\",\n",
    "                          \"comment\", \"report_date\", \n",
    "                           \"latitude\", \"longitude\"],\n",
    "                  parse_dates = [\"date\", \"report_date\"])"
   ]
  },
  {
   "cell_type": "code",
   "execution_count": 27,
   "id": "36e638cb",
   "metadata": {},
   "outputs": [
    {
     "data": {
      "text/plain": [
       "80332"
      ]
     },
     "execution_count": 27,
     "metadata": {},
     "output_type": "execute_result"
    }
   ],
   "source": [
    "len(ufos)"
   ]
  },
  {
   "cell_type": "code",
   "execution_count": 28,
   "id": "1a5557e2",
   "metadata": {},
   "outputs": [],
   "source": [
    "nsamples = 1000\n",
    "downSampleMask = np.random.choice(range(len(ufos)-1),nsamples,replace = False)"
   ]
  },
  {
   "cell_type": "code",
   "execution_count": 29,
   "id": "251c7fc6",
   "metadata": {},
   "outputs": [
    {
     "data": {
      "text/plain": [
       "array([61139, 43967, 53885, 57883,  7916,  2233,  2461, 74556, 61475,\n",
       "       12935, 78930,  4732, 36213, 30930, 16344, 37863,  6244, 52799,\n",
       "       73998, 58831,  2657, 73691, 70192, 65356, 42620, 12586,  4375,\n",
       "       57515, 64601, 79239, 17381, 41423, 18393, 34136, 47719, 46153,\n",
       "       56003, 43326, 68459,  1961, 32415, 32342, 73738, 60694, 42738,\n",
       "       53309, 66890, 61335, 34675, 70602, 18652, 52808, 12638, 70714,\n",
       "       20681, 51446, 41331, 42383, 51997,  7457, 50376, 22059, 50142,\n",
       "       42883, 54489,  9108, 79083, 59151, 23751, 40609,  4364, 15769,\n",
       "        4883, 55510, 48758, 48263, 38541, 27654, 33442, 38628, 60836,\n",
       "       29200, 13915, 49132, 15275,   267, 16388, 51386, 79452, 62357,\n",
       "       29972, 55101, 24531, 78736, 64920, 48160,  8655, 49232, 19859,\n",
       "       45451, 25327, 50131, 56154, 34336, 50606,  3624, 45670, 14036,\n",
       "       41428, 40093, 18264,  8269, 72509, 32662, 48148, 33777, 54821,\n",
       "        6265, 44564, 62462, 11954, 41263, 27510, 12255,  9915, 62958,\n",
       "       34355, 52965, 40783, 10136, 30358,  4975, 35842, 12514, 40996,\n",
       "        8806, 60397, 23452, 41137, 79519, 73658, 41735,  5623, 14151,\n",
       "       28965, 67613, 24120,  8683, 16138, 40553, 41671, 10014, 56460,\n",
       "       71515, 33551, 50097, 18360, 78440, 30934, 47744, 77103, 40401,\n",
       "       71514, 26309, 16357, 70650,  4827, 64870, 21646, 10218, 50062,\n",
       "       24810, 68219, 69474, 47424, 24236, 29775, 12289, 42302,  8530,\n",
       "       17684, 17281, 42145,  2613, 52255, 31942, 34661, 56624, 25267,\n",
       "       70948, 23185, 33745, 19945,   225, 54180, 72062, 62274, 11292,\n",
       "       17553, 21405,  9047,  6071, 23653, 56827, 65674, 68736, 70983,\n",
       "        2580, 56610, 79893, 63758, 25754, 20729, 78699,  4670, 44081,\n",
       "       17220, 50134, 14950,  7931, 13593,  9645,  9993, 54120, 27805,\n",
       "       65736, 57588, 55318, 64671, 39629, 74082, 57577, 45777,  8411,\n",
       "       63822, 79116, 13914, 78875,  4489,  8801,  3010, 49714,  6524,\n",
       "       71645, 47687, 19130, 48354, 13989, 51870, 43054, 65685,  3998,\n",
       "       22739,  8503, 79376, 57145,  5852, 39772, 62241, 30961, 70071,\n",
       "       38755, 40519, 12271, 49882,  8834, 46488, 31713, 16915, 68181,\n",
       "       43897, 40733, 67673, 37757,  7672, 31473, 62999, 35619, 42226,\n",
       "       33329, 32289, 19786,  8324, 73131, 19619, 77901,   242, 29330,\n",
       "       59496, 27520, 18547,  2013, 19304, 66089, 25305, 31751, 39521,\n",
       "       65280, 37732,  4949, 50791, 57372, 30617, 63383, 37040, 26120,\n",
       "       75135, 15161,  6885,  4685, 78148, 67336, 19294, 50082, 28182,\n",
       "       48443, 79952, 63204, 41718, 26553, 19295, 15025, 58332, 54340,\n",
       "       64033, 11694, 42290, 47733, 17180, 26545, 70114, 23905, 30021,\n",
       "       42367, 14909, 56190, 75075, 57379, 21875, 18447, 17077, 13452,\n",
       "       71880, 18390, 43400, 70827, 27176, 45024, 71855, 63440, 24369,\n",
       "       29607, 77187, 15247,  9184, 62795, 68939, 57078,  5156,  5507,\n",
       "        3295, 76267, 23376, 43681, 50657, 59089, 63955, 49429, 69239,\n",
       "       42344, 16823, 77169, 18828, 76977, 79019, 55872, 28515, 12908,\n",
       "        8679,   980, 66246, 34243, 12958, 63805, 66816, 45811, 12940,\n",
       "       34338, 48779, 68768, 34072, 55964, 26223, 30574, 46917, 36486,\n",
       "       14208, 72652, 69515,  8949, 17850,  1509, 71262, 63664, 51769,\n",
       "       77770, 22115,   887,  3470,  3185, 45742, 48336, 14514, 28740,\n",
       "       34202,  8201,  9088, 77089, 38327, 56178, 11931, 32988, 42816,\n",
       "       38303, 14943, 61116,  3213, 76584, 23015, 58681, 57188, 36597,\n",
       "       26689, 68337,  6917, 68510, 28863,  7654, 49831,  2333, 69814,\n",
       "       79028, 28241, 42252, 16759,  3390, 19934, 76234, 29221, 52024,\n",
       "        2955, 15355, 45833, 58959, 24251, 68905, 75648, 26250, 48368,\n",
       "       79350, 67715, 56283, 22946, 43684, 71178, 53172, 73408, 48348,\n",
       "       34733, 25186, 22448, 45585, 30800, 13249, 55181, 22941, 68288,\n",
       "       35336, 58271, 54622, 60791, 24017, 20531, 10325, 44653, 66499,\n",
       "       75821, 28165, 59690, 60658, 30105, 69206, 78431, 50889, 42619,\n",
       "       67829,   519, 35927, 56733, 51855, 71473, 29435, 39405, 20027,\n",
       "       69811, 33222, 67185, 80094, 48682, 20853, 43114, 70428, 33033,\n",
       "       55347, 16848,  9671, 15012, 12612,  6795,  2319, 76553, 10845,\n",
       "       19953, 19789, 21351,  8743, 75271, 10927, 18328, 22734, 42353,\n",
       "       73542, 55320, 70770, 74003, 47616, 23631, 54924,  1630, 12513,\n",
       "       41895, 69295, 56557, 63088, 35797, 34836, 17574, 35092, 11539,\n",
       "       33614, 23594, 42860,  2299,  6191, 26874, 78766, 43559, 13071,\n",
       "       44588, 57072, 16633, 21484, 52040, 63985, 67578, 14082, 76453,\n",
       "       26303,  9910, 72350, 78835, 63143, 17545, 10550, 12864, 17843,\n",
       "       36857, 64519, 30364,  6476, 47882, 37909, 21384, 73339, 66740,\n",
       "       41082, 34421, 38921, 32984, 73203, 44057, 66635, 44166, 70533,\n",
       "       35525, 79681, 69997, 57660, 66970, 55458, 41771, 76957, 54138,\n",
       "       15734, 21419, 61361, 36490, 18895, 28024, 19815, 18852, 44028,\n",
       "       31001, 78352, 11801, 39528, 45102, 38550, 51621, 46806, 48777,\n",
       "       22766, 11195, 40942, 34461, 69665, 32740, 30108, 30799, 14446,\n",
       "       30056, 42811, 74224, 61297, 75157, 23960, 21193, 54075, 30703,\n",
       "       72587, 14485, 80064,   318, 22490,   127, 66339, 54575, 40582,\n",
       "        2122, 29702, 62269, 10006, 63019, 46296, 78536, 73719, 22385,\n",
       "       41956, 69193, 34376, 78004, 23733, 57383, 57349, 33524, 39249,\n",
       "        3502, 29364, 72477, 66649, 74546, 60340, 41392, 67694, 25046,\n",
       "       15074, 79661, 48947, 53979, 50518, 20888, 70878, 43984,  1611,\n",
       "       16312, 52404, 35884,  7737, 77859, 52403, 20008, 19623, 38674,\n",
       "       38055,   878, 29522, 67805, 60207,  5802, 77933, 78628, 31168,\n",
       "       57385, 77788, 11727, 28432, 33380, 22759, 18000, 78259, 68311,\n",
       "       33867, 68398, 49376, 31209, 18237, 13137, 65278, 30695, 64825,\n",
       "       52665, 51871,  3835,  9429,  4541,  4493, 24143, 18290, 52205,\n",
       "       40455, 52382,  6326, 17483, 17900, 13217, 22633, 69968, 73413,\n",
       "       50282, 71477,  5395, 13875,  4784, 36617, 38758, 65993, 75297,\n",
       "       71407, 79875, 33911, 63920, 73062, 31283, 21845, 60491,  2120,\n",
       "       26572,  8599, 22133, 71992,  2218,  5529,  1831, 51742, 16541,\n",
       "       59024, 49895, 40079, 69125, 45121, 27566, 10958, 74245, 43884,\n",
       "       55949, 33731,  5275, 22289, 50796,  4737, 11939, 74116, 33036,\n",
       "       67928, 63684, 76716, 28915, 40510,  6028, 32184, 56352, 45700,\n",
       "       33739, 23158, 30731, 14412, 42229, 41607, 75787, 43178, 32759,\n",
       "         129, 24559, 57432, 75231, 31028, 70759, 30231, 34534, 46614,\n",
       "       49082, 13656, 18834, 40565, 49264, 57149, 23524, 28623, 48847,\n",
       "       65408, 15605, 40926, 36318, 45209, 17477, 11337, 29501, 16050,\n",
       "       77434, 41026, 19514, 59588, 39693, 35183, 72936, 65714, 75834,\n",
       "       44283, 57157, 79747, 65632, 71458, 32101, 76022, 33245,  7051,\n",
       "        6793, 63942, 31948, 38260, 14231, 73245, 40921,  1499, 17143,\n",
       "       15590, 39470, 10778, 47412, 80207, 75575, 70895, 13570, 79293,\n",
       "       38938, 54577, 24038,  7853, 65636, 60529, 39550, 59534, 40652,\n",
       "       17926, 27773, 35277, 37333, 23490, 25098, 49290, 21131, 72493,\n",
       "       76667, 23478, 65073, 45046, 12275,  9667, 69489, 63571,  9946,\n",
       "       46741, 40452, 38585, 33794, 61421,  4013, 76897, 49908, 12497,\n",
       "       18959, 71373, 10481,  4509, 33530, 25142,  2505, 68350,  5082,\n",
       "       73215, 60387, 20146, 67294, 23964, 33194, 30111, 11687, 21195,\n",
       "       13152, 66065, 17323, 44096, 48480, 56568, 20463, 71916, 47963,\n",
       "       79421, 18899, 78656, 50574, 44678, 75318, 20497, 58509,  3184,\n",
       "       73210,  5166,  7213, 36375, 21393, 23571, 23704, 11443, 61054,\n",
       "       16098, 13498,  5693, 11283, 71713, 33903, 73046, 65283, 27374,\n",
       "       15993, 41536,  6774, 42243, 77533, 31945, 53461, 43708, 69259,\n",
       "        2999, 47302, 18923, 47793, 30006, 24379, 69902, 76163, 47836,\n",
       "       48535, 47233, 33918, 31997, 18754,  2903, 45838, 41732, 44651,\n",
       "       28855, 36238, 52099,  8630, 78093, 13174, 40991, 30408, 15977,\n",
       "       27937,   385, 12390,  9757, 51846,  2904, 14707, 45843,  3768,\n",
       "       76946])"
      ]
     },
     "execution_count": 29,
     "metadata": {},
     "output_type": "execute_result"
    }
   ],
   "source": [
    "downSampleMask"
   ]
  },
  {
   "cell_type": "code",
   "execution_count": 30,
   "id": "f0bc3d22",
   "metadata": {},
   "outputs": [],
   "source": [
    "ufosDS = ufos.loc[downSampleMask]"
   ]
  },
  {
   "cell_type": "code",
   "execution_count": 31,
   "id": "412b96ae",
   "metadata": {},
   "outputs": [
    {
     "data": {
      "text/html": [
       "<div>\n",
       "<style scoped>\n",
       "    .dataframe tbody tr th:only-of-type {\n",
       "        vertical-align: middle;\n",
       "    }\n",
       "\n",
       "    .dataframe tbody tr th {\n",
       "        vertical-align: top;\n",
       "    }\n",
       "\n",
       "    .dataframe thead th {\n",
       "        text-align: right;\n",
       "    }\n",
       "</style>\n",
       "<table border=\"1\" class=\"dataframe\">\n",
       "  <thead>\n",
       "    <tr style=\"text-align: right;\">\n",
       "      <th></th>\n",
       "      <th>date</th>\n",
       "      <th>city</th>\n",
       "      <th>state</th>\n",
       "      <th>country</th>\n",
       "      <th>shape</th>\n",
       "      <th>duration_seconds</th>\n",
       "      <th>duration</th>\n",
       "      <th>comment</th>\n",
       "      <th>report_date</th>\n",
       "      <th>latitude</th>\n",
       "      <th>longitude</th>\n",
       "    </tr>\n",
       "  </thead>\n",
       "  <tbody>\n",
       "    <tr>\n",
       "      <th>61139</th>\n",
       "      <td>2010-07-31 23:25:00</td>\n",
       "      <td>harristown</td>\n",
       "      <td>il</td>\n",
       "      <td>us</td>\n",
       "      <td>fireball</td>\n",
       "      <td>60.0</td>\n",
       "      <td>&gt;1 minute</td>\n",
       "      <td>Ball of Light with tail that changed directions</td>\n",
       "      <td>2010-08-24</td>\n",
       "      <td>39.853889</td>\n",
       "      <td>-89.083889</td>\n",
       "    </tr>\n",
       "    <tr>\n",
       "      <th>43967</th>\n",
       "      <td>2001-05-23 22:00:00</td>\n",
       "      <td>virginia beach</td>\n",
       "      <td>va</td>\n",
       "      <td>us</td>\n",
       "      <td>light</td>\n",
       "      <td>3600.0</td>\n",
       "      <td>1 hour</td>\n",
       "      <td>lights moving quickly in sky</td>\n",
       "      <td>2001-08-05</td>\n",
       "      <td>36.852778</td>\n",
       "      <td>-75.978333</td>\n",
       "    </tr>\n",
       "    <tr>\n",
       "      <th>53885</th>\n",
       "      <td>2004-06-06 15:00:00</td>\n",
       "      <td>ashland</td>\n",
       "      <td>ky</td>\n",
       "      <td>us</td>\n",
       "      <td>changing</td>\n",
       "      <td>600.0</td>\n",
       "      <td>10+ minutes</td>\n",
       "      <td>Round object spotted in Kentucky sky.</td>\n",
       "      <td>2004-06-18</td>\n",
       "      <td>38.478333</td>\n",
       "      <td>-82.638056</td>\n",
       "    </tr>\n",
       "    <tr>\n",
       "      <th>57883</th>\n",
       "      <td>2009-07-18 23:00:00</td>\n",
       "      <td>longview</td>\n",
       "      <td>tx</td>\n",
       "      <td>us</td>\n",
       "      <td>circle</td>\n",
       "      <td>300.0</td>\n",
       "      <td>less than 5 minutes</td>\n",
       "      <td>Bright object suddenly gone</td>\n",
       "      <td>2009-08-05</td>\n",
       "      <td>32.500556</td>\n",
       "      <td>-94.740278</td>\n",
       "    </tr>\n",
       "    <tr>\n",
       "      <th>7916</th>\n",
       "      <td>2001-11-11 01:00:00</td>\n",
       "      <td>new york city</td>\n",
       "      <td>ny</td>\n",
       "      <td>us</td>\n",
       "      <td>light</td>\n",
       "      <td>10.0</td>\n",
       "      <td>10 sec</td>\n",
       "      <td>An erraticly moving dot in the sky</td>\n",
       "      <td>2001-11-20</td>\n",
       "      <td>40.714167</td>\n",
       "      <td>-74.006389</td>\n",
       "    </tr>\n",
       "    <tr>\n",
       "      <th>...</th>\n",
       "      <td>...</td>\n",
       "      <td>...</td>\n",
       "      <td>...</td>\n",
       "      <td>...</td>\n",
       "      <td>...</td>\n",
       "      <td>...</td>\n",
       "      <td>...</td>\n",
       "      <td>...</td>\n",
       "      <td>...</td>\n",
       "      <td>...</td>\n",
       "      <td>...</td>\n",
       "    </tr>\n",
       "    <tr>\n",
       "      <th>2904</th>\n",
       "      <td>1999-10-19 20:00:00</td>\n",
       "      <td>superior</td>\n",
       "      <td>co</td>\n",
       "      <td>us</td>\n",
       "      <td>light</td>\n",
       "      <td>720.0</td>\n",
       "      <td>approx 12 min</td>\n",
       "      <td>Triangular formation of lights observed shortl...</td>\n",
       "      <td>1999-11-02</td>\n",
       "      <td>39.952778</td>\n",
       "      <td>-105.168056</td>\n",
       "    </tr>\n",
       "    <tr>\n",
       "      <th>14707</th>\n",
       "      <td>1995-01-15 22:00:00</td>\n",
       "      <td>cleburne</td>\n",
       "      <td>tx</td>\n",
       "      <td>us</td>\n",
       "      <td>triangle</td>\n",
       "      <td>180.0</td>\n",
       "      <td>2-3 minutes</td>\n",
       "      <td>Two friends and I saw a triangular-shaped hove...</td>\n",
       "      <td>2008-03-31</td>\n",
       "      <td>32.347500</td>\n",
       "      <td>-97.386389</td>\n",
       "    </tr>\n",
       "    <tr>\n",
       "      <th>45843</th>\n",
       "      <td>1979-05-06 21:00:00</td>\n",
       "      <td>panama city beach</td>\n",
       "      <td>fl</td>\n",
       "      <td>us</td>\n",
       "      <td>light</td>\n",
       "      <td>5400.0</td>\n",
       "      <td>1.5 hours</td>\n",
       "      <td>Five bright lights or glowing oval objects hov...</td>\n",
       "      <td>2004-10-27</td>\n",
       "      <td>30.176389</td>\n",
       "      <td>-85.805556</td>\n",
       "    </tr>\n",
       "    <tr>\n",
       "      <th>3768</th>\n",
       "      <td>1974-10-22 20:00:00</td>\n",
       "      <td>oneonta</td>\n",
       "      <td>al</td>\n",
       "      <td>us</td>\n",
       "      <td>circle</td>\n",
       "      <td>10.0</td>\n",
       "      <td>10 sec</td>\n",
       "      <td>Big&amp;#44  round &amp;#44 with lights&amp;#44  but no so...</td>\n",
       "      <td>2006-10-30</td>\n",
       "      <td>33.948056</td>\n",
       "      <td>-86.472778</td>\n",
       "    </tr>\n",
       "    <tr>\n",
       "      <th>76946</th>\n",
       "      <td>2006-09-22 17:50:00</td>\n",
       "      <td>quail valley</td>\n",
       "      <td>ca</td>\n",
       "      <td>us</td>\n",
       "      <td>triangle</td>\n",
       "      <td>120.0</td>\n",
       "      <td>2 minutes</td>\n",
       "      <td>UFO seen on Menifee&amp;#44CA</td>\n",
       "      <td>2006-10-30</td>\n",
       "      <td>33.706944</td>\n",
       "      <td>-117.244167</td>\n",
       "    </tr>\n",
       "  </tbody>\n",
       "</table>\n",
       "<p>1000 rows × 11 columns</p>\n",
       "</div>"
      ],
      "text/plain": [
       "                     date               city state country     shape  \\\n",
       "61139 2010-07-31 23:25:00         harristown    il      us  fireball   \n",
       "43967 2001-05-23 22:00:00     virginia beach    va      us     light   \n",
       "53885 2004-06-06 15:00:00            ashland    ky      us  changing   \n",
       "57883 2009-07-18 23:00:00           longview    tx      us    circle   \n",
       "7916  2001-11-11 01:00:00      new york city    ny      us     light   \n",
       "...                   ...                ...   ...     ...       ...   \n",
       "2904  1999-10-19 20:00:00           superior    co      us     light   \n",
       "14707 1995-01-15 22:00:00           cleburne    tx      us  triangle   \n",
       "45843 1979-05-06 21:00:00  panama city beach    fl      us     light   \n",
       "3768  1974-10-22 20:00:00            oneonta    al      us    circle   \n",
       "76946 2006-09-22 17:50:00       quail valley    ca      us  triangle   \n",
       "\n",
       "       duration_seconds             duration  \\\n",
       "61139              60.0            >1 minute   \n",
       "43967            3600.0               1 hour   \n",
       "53885             600.0          10+ minutes   \n",
       "57883             300.0  less than 5 minutes   \n",
       "7916               10.0               10 sec   \n",
       "...                 ...                  ...   \n",
       "2904              720.0        approx 12 min   \n",
       "14707             180.0          2-3 minutes   \n",
       "45843            5400.0            1.5 hours   \n",
       "3768               10.0               10 sec   \n",
       "76946             120.0            2 minutes   \n",
       "\n",
       "                                                 comment report_date  \\\n",
       "61139    Ball of Light with tail that changed directions  2010-08-24   \n",
       "43967                       lights moving quickly in sky  2001-08-05   \n",
       "53885              Round object spotted in Kentucky sky.  2004-06-18   \n",
       "57883                        Bright object suddenly gone  2009-08-05   \n",
       "7916                  An erraticly moving dot in the sky  2001-11-20   \n",
       "...                                                  ...         ...   \n",
       "2904   Triangular formation of lights observed shortl...  1999-11-02   \n",
       "14707  Two friends and I saw a triangular-shaped hove...  2008-03-31   \n",
       "45843  Five bright lights or glowing oval objects hov...  2004-10-27   \n",
       "3768   Big&#44  round &#44 with lights&#44  but no so...  2006-10-30   \n",
       "76946                          UFO seen on Menifee&#44CA  2006-10-30   \n",
       "\n",
       "        latitude   longitude  \n",
       "61139  39.853889  -89.083889  \n",
       "43967  36.852778  -75.978333  \n",
       "53885  38.478333  -82.638056  \n",
       "57883  32.500556  -94.740278  \n",
       "7916   40.714167  -74.006389  \n",
       "...          ...         ...  \n",
       "2904   39.952778 -105.168056  \n",
       "14707  32.347500  -97.386389  \n",
       "45843  30.176389  -85.805556  \n",
       "3768   33.948056  -86.472778  \n",
       "76946  33.706944 -117.244167  \n",
       "\n",
       "[1000 rows x 11 columns]"
      ]
     },
     "execution_count": 31,
     "metadata": {},
     "output_type": "execute_result"
    }
   ],
   "source": [
    "ufosDS"
   ]
  },
  {
   "cell_type": "code",
   "execution_count": 32,
   "id": "db49e443",
   "metadata": {},
   "outputs": [
    {
     "data": {
      "application/vnd.jupyter.widget-view+json": {
       "model_id": "d2188936f63e46bbafc5f460876a24e0",
       "version_major": 2,
       "version_minor": 0
      },
      "text/plain": [
       "Figure(axes=[Axis(label='Longitude', scale=LinearScale()), Axis(label='Latitude', orientation='vertical', scal…"
      ]
     },
     "metadata": {},
     "output_type": "display_data"
    }
   ],
   "source": [
    "#1. lets try a scatter plot with bqplot\n",
    "\n",
    "#2 scales\n",
    "x_sc = bqplot.LinearScale()\n",
    "y_sc = bqplot.LinearScale()\n",
    "col_sc = bqplot.ColorScale()\n",
    "\n",
    "#3 axes\n",
    "x_ax = bqplot.Axis(scale = x_sc,label = 'Longitude')\n",
    "y_ax = bqplot.Axis(scale = y_sc, orientation = 'vertical',label = 'Latitude')\n",
    "col_ax = bqplot.ColorAxis(scale = col_sc, label = 'Duration in Seconds',orientation = 'vertical',side = 'right')\n",
    "\n",
    "#4 marks\n",
    "scatters = bqplot.Scatter(x=ufosDS['longitude'],y=ufosDS['latitude'], color = np.log10(ufosDS['duration_seconds']),\n",
    "                         scales = {'x':x_sc,'y':y_sc,'color':col_sc})\n",
    "\n",
    "#figure\n",
    "fig = bqplot.Figure(marks = [scatters], axes = [x_ax,y_ax,col_ax])\n",
    "fig"
   ]
  },
  {
   "cell_type": "code",
   "execution_count": 36,
   "id": "a5576a3f",
   "metadata": {},
   "outputs": [],
   "source": [
    "def generate_histogram_from_lat_long(ufos, nlong=20, nlat=20, longmin=-150, longmax=150,\n",
    "                                     latmin=-40, latmax=70,\n",
    "                                     takeLog=True):\n",
    "    long_bins = np.linspace(longmin, longmax, nlong+1)\n",
    "    lat_bins = np.linspace(latmin, latmax, nlat+1)\n",
    "    hist2d, long_edges, lat_edges = np.histogram2d(ufos['longitude'], \n",
    "                                                   ufos['latitude'], \n",
    "                                                   weights=ufos['duration_seconds'],\n",
    "                                                  bins = [long_bins,lat_bins])\n",
    "    hist2d = hist2d.T\n",
    "    if takeLog:\n",
    "        hist2d[hist2d <= 0] = np.nan # set zeros to NaNs\n",
    "        # then take log\n",
    "        hist2d = np.log10(hist2d)\n",
    "    long_centers = (long_edges[:-1] + long_edges[1:]) / 2\n",
    "    lat_centers = (lat_edges[:-1] + lat_edges[1:]) / 2\n",
    "    return hist2d, long_centers, lat_centers, long_edges, lat_edges"
   ]
  },
  {
   "cell_type": "code",
   "execution_count": 37,
   "id": "43f69103",
   "metadata": {},
   "outputs": [],
   "source": [
    "hist2d,long_centers, lat_centers, long_edges, lat_edges =generate_histogram_from_lat_long(ufos)"
   ]
  },
  {
   "cell_type": "code",
   "execution_count": 38,
   "id": "d1dbc273",
   "metadata": {},
   "outputs": [
    {
     "data": {
      "text/plain": [
       "(20, 20)"
      ]
     },
     "execution_count": 38,
     "metadata": {},
     "output_type": "execute_result"
    }
   ],
   "source": [
    "hist2d.shape"
   ]
  },
  {
   "cell_type": "code",
   "execution_count": 39,
   "id": "921a5fad",
   "metadata": {},
   "outputs": [
    {
     "data": {
      "text/plain": [
       "array([-142.5, -127.5, -112.5,  -97.5,  -82.5,  -67.5,  -52.5,  -37.5,\n",
       "        -22.5,   -7.5,    7.5,   22.5,   37.5,   52.5,   67.5,   82.5,\n",
       "         97.5,  112.5,  127.5,  142.5])"
      ]
     },
     "execution_count": 39,
     "metadata": {},
     "output_type": "execute_result"
    }
   ],
   "source": [
    "long_centers"
   ]
  },
  {
   "cell_type": "code",
   "execution_count": 40,
   "id": "2d4a45ea",
   "metadata": {},
   "outputs": [
    {
     "data": {
      "text/plain": [
       "array([-150., -135., -120., -105.,  -90.,  -75.,  -60.,  -45.,  -30.,\n",
       "        -15.,    0.,   15.,   30.,   45.,   60.,   75.,   90.,  105.,\n",
       "        120.,  135.,  150.])"
      ]
     },
     "execution_count": 40,
     "metadata": {},
     "output_type": "execute_result"
    }
   ],
   "source": [
    "long_edges"
   ]
  },
  {
   "cell_type": "code",
   "execution_count": 41,
   "id": "a374a316",
   "metadata": {},
   "outputs": [
    {
     "data": {
      "text/plain": [
       "(20, 21)"
      ]
     },
     "execution_count": 41,
     "metadata": {},
     "output_type": "execute_result"
    }
   ],
   "source": [
    "len(long_centers),len(long_edges)"
   ]
  },
  {
   "cell_type": "code",
   "execution_count": 42,
   "id": "3044e824",
   "metadata": {},
   "outputs": [
    {
     "data": {
      "application/vnd.jupyter.widget-view+json": {
       "model_id": "30f4088f1a6a407eaeba4f49d2ee03dc",
       "version_major": 2,
       "version_minor": 0
      },
      "text/plain": [
       "Figure(axes=[ColorAxis(orientation='vertical', scale=ColorScale(scheme='RdPu'), side='right'), Axis(label='Lon…"
      ]
     },
     "metadata": {},
     "output_type": "display_data"
    }
   ],
   "source": [
    "#plot data with grid heat map\n",
    "\n",
    "#2 scales\n",
    "col_sc = bqplot.ColorScale(scheme='RdPu')\n",
    "x_sc = bqplot.LinearScale()\n",
    "y_sc = bqplot.LinearScale()\n",
    "\n",
    "#3 axes\n",
    "col_ax = bqplot.ColorAxis(scale = col_sc,\n",
    "                          orientation = 'vertical',side ='right')\n",
    "x_ax = bqplot.Axis(scale=x_sc, label = 'Longitude')\n",
    "y_ax = bqplot.Axis(scale=x_sc, label = 'Latitude',\n",
    "                   orientation = 'vertical')\n",
    "\n",
    "#4 marks\n",
    "heat_map = bqplot.GridHeatMap(color = hist2d,\n",
    "                             row = lat_centers,\n",
    "                             column = long_centers,\n",
    "                             scales={'color':col_sc,'row':y_sc, 'column':x_sc},\n",
    "                             interactions={'click':'select'},\n",
    "                             selected_style={'fill':'blue'})\n",
    "\n",
    "fig = bqplot.Figure(marks=[heat_map], axes=[col_ax,x_ax, y_ax])\n",
    "fig"
   ]
  },
  {
   "cell_type": "code",
   "execution_count": 108,
   "id": "251fbc96",
   "metadata": {},
   "outputs": [],
   "source": [
    "myLabel = ipywidgets.Label()"
   ]
  },
  {
   "cell_type": "code",
   "execution_count": 194,
   "id": "2b05c136",
   "metadata": {},
   "outputs": [],
   "source": [
    "#2 scales\n",
    "col_sc = bqplot.ColorScale(scheme='RdPu')\n",
    "x_sc = bqplot.LinearScale()\n",
    "y_sc = bqplot.LinearScale()\n",
    "\n",
    "#3 axes\n",
    "col_ax = bqplot.ColorAxis(scale = col_sc,\n",
    "                          orientation = 'vertical',side ='right')\n",
    "x_ax = bqplot.Axis(scale=x_sc, label = 'Longitude')\n",
    "y_ax = bqplot.Axis(scale=x_sc, label = 'Latitude',\n",
    "                   orientation = 'vertical')\n",
    "\n",
    "#4 marks\n",
    "heat_map = bqplot.GridHeatMap(color = hist2d,\n",
    "                             row = lat_centers,\n",
    "                             column = long_centers,\n",
    "                             scales={'color':col_sc,'row':y_sc, 'column':x_sc},\n",
    "                             interactions={'click':'select'},\n",
    "                             selected_style={'fill':'blue'})\n",
    "\n",
    "fig = bqplot.Figure(marks=[heat_map], axes=[col_ax,x_ax, y_ax])"
   ]
  },
  {
   "cell_type": "code",
   "execution_count": 195,
   "id": "8dc47da2",
   "metadata": {},
   "outputs": [],
   "source": [
    "def on_selection(change):\n",
    "    if len(change['owner'].selected==1):\n",
    "        i,j = change['owner'].selected[0]\n",
    "        v = hist2d[i,j]\n",
    "        myLabel.value = 'Total duration in log(sec) = ' + str(v)"
   ]
  },
  {
   "cell_type": "code",
   "execution_count": 196,
   "id": "979ed4bf",
   "metadata": {},
   "outputs": [],
   "source": [
    "heat_map.observe(on_selection,'selected')"
   ]
  },
  {
   "cell_type": "code",
   "execution_count": 197,
   "id": "30d25087",
   "metadata": {},
   "outputs": [
    {
     "data": {
      "application/vnd.jupyter.widget-view+json": {
       "model_id": "6e4694b443364bd1b1e5360cbc0de73d",
       "version_major": 2,
       "version_minor": 0
      },
      "text/plain": [
       "VBox(children=(Label(value='Total duration in log(sec)=7.677791885473368'), Figure(axes=[ColorAxis(orientation…"
      ]
     },
     "metadata": {},
     "output_type": "display_data"
    }
   ],
   "source": [
    "myDashboard = ipywidgets.VBox([myLabel,fig])\n",
    "myDashboard"
   ]
  },
  {
   "cell_type": "code",
   "execution_count": 113,
   "id": "d797e897",
   "metadata": {},
   "outputs": [],
   "source": [
    "import datetime as dt"
   ]
  },
  {
   "cell_type": "code",
   "execution_count": 116,
   "id": "0742dfae",
   "metadata": {},
   "outputs": [],
   "source": [
    "#scatterplot of date on x-axis and duration in sec on y-axis\n",
    "#scales\n",
    "x_scs = bqplot.DateScale(min = dt.datetime(1950,1,1), max = dt.datetime(2022,12,31))\n"
   ]
  },
  {
   "cell_type": "code",
   "execution_count": 117,
   "id": "2ee7a8aa",
   "metadata": {},
   "outputs": [
    {
     "data": {
      "text/plain": [
       "(0.001, 97836000.0)"
      ]
     },
     "execution_count": 117,
     "metadata": {},
     "output_type": "execute_result"
    }
   ],
   "source": [
    "ufos['duration_seconds'].min(),ufos['duration_seconds'].max()"
   ]
  },
  {
   "cell_type": "code",
   "execution_count": 118,
   "id": "8ec0ae37",
   "metadata": {},
   "outputs": [],
   "source": [
    "y_scs = bqplot.LogScale()"
   ]
  },
  {
   "cell_type": "code",
   "execution_count": 120,
   "id": "7f0f59c3",
   "metadata": {},
   "outputs": [],
   "source": [
    "#3 axes\n",
    "x_axs = bqplot.Axis(label = 'Date', scale = x_scs)\n",
    "y_axs = bqplot.Axis(label = 'Duration in sec',scale = y_scs, orientation = 'vertical')"
   ]
  },
  {
   "cell_type": "code",
   "execution_count": 121,
   "id": "f2db3500",
   "metadata": {},
   "outputs": [],
   "source": [
    "i, j = 19,0  #this has a lot of data, i think"
   ]
  },
  {
   "cell_type": "code",
   "execution_count": 124,
   "id": "c347af07",
   "metadata": {},
   "outputs": [
    {
     "data": {
      "text/plain": [
       "(-150.0, -135.0)"
      ]
     },
     "execution_count": 124,
     "metadata": {},
     "output_type": "execute_result"
    }
   ],
   "source": [
    "long_edges[j], long_edges[j+1]"
   ]
  },
  {
   "cell_type": "code",
   "execution_count": 125,
   "id": "54dfd0b6",
   "metadata": {},
   "outputs": [
    {
     "data": {
      "text/plain": [
       "(64.5, 70.0)"
      ]
     },
     "execution_count": 125,
     "metadata": {},
     "output_type": "execute_result"
    }
   ],
   "source": [
    "lat_edges[i], lat_edges[i+1]"
   ]
  },
  {
   "cell_type": "code",
   "execution_count": 126,
   "id": "3405fae0",
   "metadata": {},
   "outputs": [],
   "source": [
    "minLong, maxLong = long_edges[j], long_edges[j+1]\n",
    "minLat, maxLat = lat_edges[i], lat_edges[i+1]"
   ]
  },
  {
   "cell_type": "code",
   "execution_count": null,
   "id": "f9b1c26d",
   "metadata": {},
   "outputs": [],
   "source": [
    "# want all the data that has long >= minLong AND long <= maxLong\n",
    "# AND lat >= minLat AND lat <= maxLat"
   ]
  },
  {
   "cell_type": "code",
   "execution_count": 128,
   "id": "2820fcc5",
   "metadata": {},
   "outputs": [],
   "source": [
    "region_mask = (ufos['longitude']>=minLong) & (ufos['longitude']<= maxLong) &\\\n",
    "              (ufos['latitude']>=minLat) & (ufos['latitude']<= maxLat)"
   ]
  },
  {
   "cell_type": "code",
   "execution_count": 129,
   "id": "45b7d7eb",
   "metadata": {},
   "outputs": [
    {
     "data": {
      "text/plain": [
       "(64.5,\n",
       " 70.0,\n",
       " 327      64.837778\n",
       " 2845     64.837778\n",
       " 3620     64.837778\n",
       " 4602     64.751111\n",
       " 6011     64.837778\n",
       "            ...    \n",
       " 77347    64.751111\n",
       " 77497    64.837778\n",
       " 78571    64.837778\n",
       " 79029    64.837778\n",
       " 79470    64.837778\n",
       " Name: latitude, Length: 74, dtype: float64)"
      ]
     },
     "execution_count": 129,
     "metadata": {},
     "output_type": "execute_result"
    }
   ],
   "source": [
    "minLat, maxLat, ufos['latitude'][region_mask]"
   ]
  },
  {
   "cell_type": "code",
   "execution_count": 132,
   "id": "7da4182c",
   "metadata": {},
   "outputs": [
    {
     "data": {
      "text/plain": [
       "(64.5638889, 67.0138889)"
      ]
     },
     "execution_count": 132,
     "metadata": {},
     "output_type": "execute_result"
    }
   ],
   "source": [
    "ufos['latitude'][region_mask].min(),ufos['latitude'][region_mask].max()"
   ]
  },
  {
   "cell_type": "code",
   "execution_count": 136,
   "id": "80bd5bc4",
   "metadata": {},
   "outputs": [],
   "source": [
    "duration_scatt = bqplot.Scatter(x = ufos['date'][region_mask],\n",
    "                                y = ufos['duration_seconds'][region_mask],\n",
    "                               scales = {'x':x_scs, 'y':y_scs})"
   ]
  },
  {
   "cell_type": "code",
   "execution_count": 137,
   "id": "190d3ef9",
   "metadata": {},
   "outputs": [
    {
     "data": {
      "application/vnd.jupyter.widget-view+json": {
       "model_id": "6f9718f4847f487b88cbab776d6e9c4a",
       "version_major": 2,
       "version_minor": 0
      },
      "text/plain": [
       "Figure(axes=[Axis(label='Date', scale=DateScale(max=datetime.datetime(2022, 12, 31, 0, 0), min=datetime.dateti…"
      ]
     },
     "metadata": {},
     "output_type": "display_data"
    }
   ],
   "source": [
    "fig_dur = bqplot.Figure(marks=[duration_scatt],axes=[x_axs,y_axs])\n",
    "fig_dur"
   ]
  },
  {
   "cell_type": "code",
   "execution_count": 138,
   "id": "98101ecd",
   "metadata": {},
   "outputs": [],
   "source": [
    "##GRID HEAT MAP##\n",
    "\n",
    "# 2. scales\n",
    "col_sc = bqplot.ColorScale(scheme='RdPu')\n",
    "x_sc = bqplot.LinearScale()\n",
    "y_sc = bqplot.LinearScale()\n",
    "\n",
    "# 3. axis\n",
    "col_ax = bqplot.ColorAxis(scale=col_sc, orientation='vertical', side='right')\n",
    "x_ax = bqplot.Axis(scale=x_sc, label='Longitude')\n",
    "y_ax = bqplot.Axis(scale=y_sc, orientation='vertical', label='Latitude')\n",
    "\n",
    "# 4. marks\n",
    "heat_map = bqplot.GridHeatMap(color=hist2d,\n",
    "                             row=lat_centers,\n",
    "                             column=long_centers, \n",
    "                             scales={'color':col_sc,'row':y_sc, 'column':x_sc},\n",
    "                             interactions={'click':'select'},\n",
    "                             selected_style={'fill':'blue'})\n",
    "\n",
    "fig = bqplot.Figure(marks=[heat_map], axes=[col_ax,x_ax, y_ax])\n"
   ]
  },
  {
   "cell_type": "code",
   "execution_count": 139,
   "id": "1f190592",
   "metadata": {},
   "outputs": [],
   "source": [
    "## SCATTERPLOT ##\n",
    "#scales\n",
    "x_scs = bqplot.DateScale(min = dt.datetime(1950,1,1), max = dt.datetime(2022,12,31))\n",
    "y_scs = bqplot.LogScale()\n",
    "\n",
    "#3 axes\n",
    "x_axs = bqplot.Axis(label = 'Date', scale = x_scs)\n",
    "y_axs = bqplot.Axis(label = 'Duration in sec',scale = y_scs, orientation = 'vertical')\n",
    "\n",
    "i, j = 19,0  #this has a lot of data, i think\n",
    "minLong, maxLong = long_edges[j], long_edges[j+1]\n",
    "minLat, maxLat = lat_edges[i], lat_edges[i+1]\n",
    "region_mask = (ufos['longitude']>=minLong) & (ufos['longitude']<= maxLong) &\\\n",
    "              (ufos['latitude']>=minLat) & (ufos['latitude']<= maxLat)\n",
    "\n",
    "#4 marks\n",
    "duration_scatt = bqplot.Scatter(x = ufos['date'][region_mask],\n",
    "                                y = ufos['duration_seconds'][region_mask],\n",
    "                               scales = {'x':x_scs, 'y':y_scs})\n",
    "fig_dur = bqplot.Figure(marks=[duration_scatt],axes=[x_axs,y_axs])"
   ]
  },
  {
   "cell_type": "code",
   "execution_count": 140,
   "id": "d36a3c84",
   "metadata": {},
   "outputs": [],
   "source": [
    "def on_selection(change):\n",
    "    if len(change['owner'].selected==1): # only allow user to select one grid\n",
    "        i,j = change['owner'].selected[0]\n",
    "        v = hist2d[i,j]\n",
    "        myLabel.value = 'Total duration in log(sec)=' + str(v)\n",
    "        \n",
    "heat_map.observe(on_selection,'selected')"
   ]
  },
  {
   "cell_type": "code",
   "execution_count": 142,
   "id": "b1060b70",
   "metadata": {},
   "outputs": [
    {
     "data": {
      "application/vnd.jupyter.widget-view+json": {
       "model_id": "",
       "version_major": 2,
       "version_minor": 0
      },
      "text/plain": [
       "VBox(children=(Label(value='Total duration in log(sec) = 5.828826752120481'), HBox(children=(Figure(axes=[Colo…"
      ]
     },
     "metadata": {},
     "output_type": "display_data"
    }
   ],
   "source": [
    "figures = ipywidgets.HBox([fig,fig_dur])\n",
    "fig.layout.min_width='400px'\n",
    "fig_dur.layout.min_width='400px'\n",
    "myDashboard = ipywidgets.VBox([myLabel,figures])\n",
    "myDashboard"
   ]
  },
  {
   "cell_type": "code",
   "execution_count": 143,
   "id": "b4326182",
   "metadata": {},
   "outputs": [
    {
     "data": {
      "text/plain": [
       "array(['2001-10-11T02:15:00.000000000', '2012-10-18T21:30:00.000000000',\n",
       "       '2000-10-02T23:00:00.000000000', '2012-10-25T23:00:00.000000000',\n",
       "       '2013-10-31T20:30:00.000000000', '2013-10-04T20:00:00.000000000',\n",
       "       '2013-10-04T21:55:00.000000000', '2006-11-10T23:15:00.000000000',\n",
       "       '2011-11-11T20:10:00.000000000', '1969-11-01T19:30:00.000000000',\n",
       "       '1976-01-11T23:00:00.000000000', '2012-11-22T19:05:00.000000000',\n",
       "       '1993-11-23T11:24:00.000000000', '2003-11-24T18:32:00.000000000',\n",
       "       '2005-01-13T20:00:00.000000000', '2005-01-13T21:00:00.000000000',\n",
       "       '2013-01-19T21:00:00.000000000', '2013-12-10T23:15:00.000000000',\n",
       "       '2000-12-12T22:00:00.000000000', '2013-12-12T22:30:00.000000000',\n",
       "       '1998-12-15T20:00:00.000000000', '2000-12-15T16:36:00.000000000',\n",
       "       '2009-01-02T21:00:00.000000000', '2004-12-20T20:00:00.000000000',\n",
       "       '2011-12-24T02:00:00.000000000', '2012-12-25T16:30:00.000000000',\n",
       "       '2008-12-29T15:00:00.000000000', '2011-12-30T04:47:00.000000000',\n",
       "       '2006-12-31T21:47:00.000000000', '2013-12-31T01:00:00.000000000',\n",
       "       '2013-12-31T23:00:00.000000000', '2001-01-24T00:00:00.000000000',\n",
       "       '2009-01-24T18:00:00.000000000', '2013-12-09T21:00:00.000000000',\n",
       "       '2011-01-05T20:00:00.000000000', '1998-01-08T22:38:00.000000000',\n",
       "       '1999-02-10T20:40:00.000000000', '2011-02-11T08:00:00.000000000',\n",
       "       '2012-02-11T19:10:00.000000000', '1954-02-01T02:00:00.000000000',\n",
       "       '1999-02-12T01:30:00.000000000', '2009-02-20T22:00:00.000000000',\n",
       "       '1999-02-21T22:30:00.000000000', '2005-02-26T05:40:00.000000000',\n",
       "       '2002-02-06T00:30:00.000000000', '2002-02-06T00:35:00.000000000',\n",
       "       '2006-02-06T12:00:00.000000000', '2004-03-11T21:30:00.000000000',\n",
       "       '1998-03-15T20:00:00.000000000', '2013-03-16T05:10:00.000000000',\n",
       "       '2009-03-31T23:00:00.000000000', '1999-03-04T21:00:00.000000000',\n",
       "       '2005-03-04T20:45:00.000000000', '2005-04-11T00:00:00.000000000',\n",
       "       '2000-04-02T18:00:00.000000000', '1997-05-20T15:00:00.000000000',\n",
       "       '2006-06-15T01:43:00.000000000', '2007-06-30T22:09:00.000000000',\n",
       "       '1949-07-01T11:00:00.000000000', '1988-07-01T00:00:00.000000000',\n",
       "       '2008-07-03T16:40:00.000000000', '1962-08-15T19:00:00.000000000',\n",
       "       '2001-08-27T05:30:00.000000000', '2003-08-07T01:30:00.000000000',\n",
       "       '2013-08-07T21:30:00.000000000', '1999-09-01T22:00:00.000000000',\n",
       "       '2004-09-12T03:00:00.000000000', '2001-09-15T23:55:00.000000000',\n",
       "       '1969-09-20T23:00:00.000000000', '1998-09-24T22:35:00.000000000',\n",
       "       '2013-09-24T20:35:00.000000000', '2013-09-29T21:30:00.000000000',\n",
       "       '2012-09-03T21:57:00.000000000', '2013-09-05T22:00:00.000000000'],\n",
       "      dtype='datetime64[ns]')"
      ]
     },
     "execution_count": 143,
     "metadata": {},
     "output_type": "execute_result"
    }
   ],
   "source": [
    "duration_scatt.x"
   ]
  },
  {
   "cell_type": "code",
   "execution_count": 144,
   "id": "f7a37f41",
   "metadata": {},
   "outputs": [
    {
     "data": {
      "text/plain": [
       "array([1.800e+03, 6.000e+02, 3.000e+02, 1.500e+01, 1.800e+02, 6.000e+02,\n",
       "       1.800e+02, 2.000e+01, 3.000e+02, 2.400e+02, 6.000e+02, 1.800e+02,\n",
       "       1.800e+02, 3.000e+02, 2.700e+03, 2.700e+03, 1.200e+02, 1.400e+01,\n",
       "       6.000e+02, 3.000e+00, 3.000e+02, 3.600e+03, 3.000e+02, 1.800e+03,\n",
       "       3.600e+03, 1.200e+02, 2.000e+00, 4.800e+02, 2.400e+02, 6.000e+02,\n",
       "       1.200e+02, 1.000e+01, 6.048e+05, 5.000e+00, 1.200e+03, 3.000e+00,\n",
       "       1.200e+03, 1.200e+03, 9.000e+02, 1.140e+03, 4.500e+01, 4.000e+00,\n",
       "       3.000e+02, 1.500e+03, 3.000e+02, 3.000e+01, 1.000e+01, 1.200e+03,\n",
       "       9.000e+01, 6.000e+01, 6.000e+02, 1.200e+02, 1.500e+01, 3.000e+02,\n",
       "       3.000e+01, 1.000e+01, 2.000e+00, 1.080e+04, 1.200e+02, 4.800e+03,\n",
       "       1.200e+02, 9.000e+02, 6.000e+02, 5.400e+03, 6.000e+01, 1.200e+03,\n",
       "       1.080e+04, 1.000e+00, 3.000e+01, 6.000e+02, 1.200e+02, 4.200e+02,\n",
       "       1.200e+02, 3.000e+02])"
      ]
     },
     "execution_count": 144,
     "metadata": {},
     "output_type": "execute_result"
    }
   ],
   "source": [
    "duration_scatt.y"
   ]
  },
  {
   "cell_type": "code",
   "execution_count": 145,
   "id": "dd3bc305",
   "metadata": {},
   "outputs": [],
   "source": [
    "##GRID HEAT MAP##\n",
    "\n",
    "# 2. scales\n",
    "col_sc = bqplot.ColorScale(scheme='RdPu')\n",
    "x_sc = bqplot.LinearScale()\n",
    "y_sc = bqplot.LinearScale()\n",
    "\n",
    "# 3. axis\n",
    "col_ax = bqplot.ColorAxis(scale=col_sc, orientation='vertical', side='right')\n",
    "x_ax = bqplot.Axis(scale=x_sc, label='Longitude')\n",
    "y_ax = bqplot.Axis(scale=y_sc, orientation='vertical', label='Latitude')\n",
    "\n",
    "# 4. marks\n",
    "heat_map = bqplot.GridHeatMap(color=hist2d,\n",
    "                             row=lat_centers,\n",
    "                             column=long_centers, \n",
    "                             scales={'color':col_sc,'row':y_sc, 'column':x_sc},\n",
    "                             interactions={'click':'select'},\n",
    "                             selected_style={'fill':'blue'})\n",
    "\n",
    "fig = bqplot.Figure(marks=[heat_map], axes=[col_ax,x_ax, y_ax])\n"
   ]
  },
  {
   "cell_type": "code",
   "execution_count": 146,
   "id": "1f8a8134",
   "metadata": {},
   "outputs": [],
   "source": [
    "## SCATTERPLOT ##\n",
    "#scales\n",
    "x_scs = bqplot.DateScale(min = dt.datetime(1950,1,1), max = dt.datetime(2022,12,31))\n",
    "y_scs = bqplot.LogScale()\n",
    "\n",
    "#3 axes\n",
    "x_axs = bqplot.Axis(label = 'Date', scale = x_scs)\n",
    "y_axs = bqplot.Axis(label = 'Duration in sec',scale = y_scs, orientation = 'vertical')\n",
    "\n",
    "i, j = 19,0  #this has a lot of data, i think\n",
    "minLong, maxLong = long_edges[j], long_edges[j+1]\n",
    "minLat, maxLat = lat_edges[i], lat_edges[i+1]\n",
    "region_mask = (ufos['longitude']>=minLong) & (ufos['longitude']<= maxLong) &\\\n",
    "              (ufos['latitude']>=minLat) & (ufos['latitude']<= maxLat)\n",
    "\n",
    "#4 marks\n",
    "duration_scatt = bqplot.Scatter(x = ufos['date'][region_mask],\n",
    "                                y = ufos['duration_seconds'][region_mask],\n",
    "                               scales = {'x':x_scs, 'y':y_scs})\n",
    "fig_dur = bqplot.Figure(marks=[duration_scatt],axes=[x_axs,y_axs])"
   ]
  },
  {
   "cell_type": "code",
   "execution_count": 154,
   "id": "558bd60e",
   "metadata": {},
   "outputs": [],
   "source": [
    "def on_selection(change):\n",
    "    if len(change['owner'].selected==1): # only allow user to select one grid\n",
    "        i,j = change['owner'].selected[0]\n",
    "        v = hist2d[i,j]\n",
    "        myLabel.value = 'Total duration in log(sec)=' + str(v)\n",
    "        #update mask based on new i,j combination\n",
    "        minLong, maxLong = long_edges[j], long_edges[j+1]\n",
    "        minLat, maxLat = lat_edges[i], lat_edges[i+1]\n",
    "        region_mask = (ufos['longitude']>=minLong) & (ufos['longitude']<= maxLong) &\\\n",
    "              (ufos['latitude']>=minLat) & (ufos['latitude']<= maxLat)\n",
    "\n",
    "        duration_scatt.x = ufos['date'][region_mask]\n",
    "        duration_scatt.y = ufos['duration_seconds'][region_mask]\n",
    "        \n",
    "heat_map.observe(on_selection,'selected')"
   ]
  },
  {
   "cell_type": "code",
   "execution_count": 152,
   "id": "b4772976",
   "metadata": {},
   "outputs": [
    {
     "data": {
      "application/vnd.jupyter.widget-view+json": {
       "model_id": "b6e8e4d3bdd64dfabe2f918e445fcc81",
       "version_major": 2,
       "version_minor": 0
      },
      "text/plain": [
       "VBox(children=(Label(value='Total duration in log(sec)=nan'), HBox(children=(Figure(axes=[ColorAxis(orientatio…"
      ]
     },
     "metadata": {},
     "output_type": "display_data"
    }
   ],
   "source": [
    "figures = ipywidgets.HBox([fig,fig_dur])\n",
    "fig.layout.min_width='400px'\n",
    "fig_dur.layout.min_width='400px'\n",
    "myDashboard = ipywidgets.VBox([myLabel,figures])\n",
    "myDashboard"
   ]
  },
  {
   "cell_type": "code",
   "execution_count": 153,
   "id": "1430d6a2",
   "metadata": {},
   "outputs": [],
   "source": [
    "# note that for dark colros  (more populated/long duration bins) the interactivity is laggy\n",
    "#probably scatted is not what we want to use\n"
   ]
  },
  {
   "cell_type": "markdown",
   "id": "f0978b31",
   "metadata": {},
   "source": [
    "# Beyond scatterplot (bar chart)"
   ]
  },
  {
   "cell_type": "code",
   "execution_count": 199,
   "id": "ab25a2c0",
   "metadata": {},
   "outputs": [],
   "source": [
    "##GRID HEAT MAP##\n",
    "\n",
    "# 2. scales\n",
    "col_sc = bqplot.ColorScale(scheme='RdPu')\n",
    "\n",
    "x_sc = bqplot.LinearScale()\n",
    "y_sc = bqplot.LinearScale()\n",
    "\n",
    "# 3. axis\n",
    "col_ax = bqplot.ColorAxis(scale=col_sc, orientation='vertical', side='right')\n",
    "x_ax = bqplot.Axis(scale=x_sc, label='Longitude')\n",
    "y_ax = bqplot.Axis(scale=y_sc, orientation='vertical', label='Latitude')\n",
    "\n",
    "# 4. marks\n",
    "heat_map = bqplot.GridHeatMap(color=hist2d,\n",
    "                             row=lat_centers,\n",
    "                             column=long_centers, \n",
    "                             scales={'color':col_sc,'row':y_sc, 'column':x_sc},\n",
    "                             interactions={'click':'select'},\n",
    "                             selected_style={'fill':'blue'})\n",
    "\n",
    "fig = bqplot.Figure(marks=[heat_map], axes=[col_ax,x_ax, y_ax])\n"
   ]
  },
  {
   "cell_type": "code",
   "execution_count": 200,
   "id": "2c4b994d",
   "metadata": {},
   "outputs": [],
   "source": [
    "myLabel = ipywidgets.Label()"
   ]
  },
  {
   "cell_type": "code",
   "execution_count": 201,
   "id": "a0f618c3",
   "metadata": {},
   "outputs": [],
   "source": [
    "### BAR PLOT ###\n",
    "#for each date bin, count up the TOTAL duration in seconds (across all observations)\n",
    "#2 scales\n",
    "x_scb = bqplot.LinearScale()\n",
    "y_scb = bqplot.LinearScale()\n",
    "\n",
    "#3 axes\n",
    "x_axb = bqplot.Axis(label = 'Date', scale = x_scb)\n",
    "y_axb = bqplot.Axis(label = 'Total duration in sec', scale = y_scb, orientation = 'vertical')\n",
    "\n",
    "#masking\n",
    "i,j = 19, 0\n",
    "minLong, maxLong = long_edges[j], long_edges[j+1]\n",
    "minLat, maxLat = lat_edges[i], lat_edges[i+1]\n",
    "region_mask = (ufos['longitude']>=minLong) & (ufos['longitude']<= maxLong) &\\\n",
    "              (ufos['latitude']>=minLat) & (ufos['latitude']<= maxLat)\n"
   ]
  },
  {
   "cell_type": "code",
   "execution_count": 202,
   "id": "75d35637",
   "metadata": {},
   "outputs": [
    {
     "data": {
      "text/plain": [
       "0        1949\n",
       "1        1949\n",
       "2        1955\n",
       "3        1956\n",
       "4        1960\n",
       "         ... \n",
       "80327    2013\n",
       "80328    2013\n",
       "80329    2013\n",
       "80330    2013\n",
       "80331    2013\n",
       "Name: date, Length: 80332, dtype: int64"
      ]
     },
     "execution_count": 202,
     "metadata": {},
     "output_type": "execute_result"
    }
   ],
   "source": [
    "ufos['date'].dt.year"
   ]
  },
  {
   "cell_type": "code",
   "execution_count": 203,
   "id": "23418818",
   "metadata": {},
   "outputs": [],
   "source": [
    "ufos['year'] = ufos['date'].dt.year # save year from datetime format in new column"
   ]
  },
  {
   "cell_type": "code",
   "execution_count": 204,
   "id": "417a61e0",
   "metadata": {},
   "outputs": [
    {
     "data": {
      "text/plain": [
       "0        1949\n",
       "1        1949\n",
       "2        1955\n",
       "3        1956\n",
       "4        1960\n",
       "         ... \n",
       "80327    2013\n",
       "80328    2013\n",
       "80329    2013\n",
       "80330    2013\n",
       "80331    2013\n",
       "Name: year, Length: 80332, dtype: int64"
      ]
     },
     "execution_count": 204,
     "metadata": {},
     "output_type": "execute_result"
    }
   ],
   "source": [
    "ufos['year']"
   ]
  },
  {
   "cell_type": "code",
   "execution_count": 179,
   "id": "e82afbfb",
   "metadata": {},
   "outputs": [],
   "source": [
    "#histogram duration in seconds per year\n",
    "dur, dur_edges = np.histogram(ufos['year'][region_mask],\n",
    "                             weights = ufos['duration_seconds'][region_mask],\n",
    "                             bins = 10)"
   ]
  },
  {
   "cell_type": "code",
   "execution_count": 180,
   "id": "50ff592c",
   "metadata": {},
   "outputs": [
    {
     "data": {
      "text/plain": [
       "array([1.26000e+03, 0.00000e+00, 9.00000e+02, 2.70000e+02, 6.00000e+02,\n",
       "       0.00000e+00, 4.98000e+03, 8.39800e+03, 2.97280e+04, 6.28123e+05])"
      ]
     },
     "execution_count": 180,
     "metadata": {},
     "output_type": "execute_result"
    }
   ],
   "source": [
    "dur"
   ]
  },
  {
   "cell_type": "code",
   "execution_count": 181,
   "id": "cd9ab267",
   "metadata": {},
   "outputs": [
    {
     "data": {
      "text/plain": [
       "array([1949. , 1955.4, 1961.8, 1968.2, 1974.6, 1981. , 1987.4, 1993.8,\n",
       "       2000.2, 2006.6, 2013. ])"
      ]
     },
     "execution_count": 181,
     "metadata": {},
     "output_type": "execute_result"
    }
   ],
   "source": [
    "dur_edges"
   ]
  },
  {
   "cell_type": "code",
   "execution_count": 182,
   "id": "b075ac80",
   "metadata": {},
   "outputs": [],
   "source": [
    "bqplot.Bars?"
   ]
  },
  {
   "cell_type": "code",
   "execution_count": 183,
   "id": "83d41eb9",
   "metadata": {},
   "outputs": [
    {
     "data": {
      "text/plain": [
       "(10, 11)"
      ]
     },
     "execution_count": 183,
     "metadata": {},
     "output_type": "execute_result"
    }
   ],
   "source": [
    "len(dur), len(dur_edges)"
   ]
  },
  {
   "cell_type": "code",
   "execution_count": 184,
   "id": "a0e1cbd6",
   "metadata": {},
   "outputs": [],
   "source": [
    "dur_centers = (dur_edges[:-1]+dur_edges[1:])/2"
   ]
  },
  {
   "cell_type": "code",
   "execution_count": 185,
   "id": "0c4b51ff",
   "metadata": {},
   "outputs": [
    {
     "data": {
      "text/plain": [
       "array([1952.2, 1958.6, 1965. , 1971.4, 1977.8, 1984.2, 1990.6, 1997. ,\n",
       "       2003.4, 2009.8])"
      ]
     },
     "execution_count": 185,
     "metadata": {},
     "output_type": "execute_result"
    }
   ],
   "source": [
    "dur_centers"
   ]
  },
  {
   "cell_type": "code",
   "execution_count": 186,
   "id": "f449ada3",
   "metadata": {},
   "outputs": [],
   "source": [
    "duration_hist = bqplot.Bars(x = dur_centers, y = dur, scales = {'x':x_scb, 'y':y_scb})"
   ]
  },
  {
   "cell_type": "code",
   "execution_count": 188,
   "id": "2333afd7",
   "metadata": {},
   "outputs": [],
   "source": [
    "fig_bars = bqplot.Figure(marks=[duration_hist], axes = [x_axb, y_axb])"
   ]
  },
  {
   "cell_type": "code",
   "execution_count": 189,
   "id": "2732c216",
   "metadata": {},
   "outputs": [
    {
     "data": {
      "text/plain": [
       "['_model_module',\n",
       " '_model_module_version',\n",
       " '_model_name',\n",
       " '_view_count',\n",
       " '_view_module',\n",
       " '_view_module_version',\n",
       " '_view_name',\n",
       " 'align',\n",
       " 'apply_clip',\n",
       " 'base',\n",
       " 'color',\n",
       " 'color_mode',\n",
       " 'colors',\n",
       " 'display_legend',\n",
       " 'enable_hover',\n",
       " 'fill',\n",
       " 'interactions',\n",
       " 'label_display',\n",
       " 'label_display_format',\n",
       " 'label_display_horizontal_offset',\n",
       " 'label_display_vertical_offset',\n",
       " 'label_font_style',\n",
       " 'labels',\n",
       " 'opacities',\n",
       " 'opacity_mode',\n",
       " 'orientation',\n",
       " 'padding',\n",
       " 'preserve_domain',\n",
       " 'scales',\n",
       " 'scales_metadata',\n",
       " 'selected',\n",
       " 'selected_style',\n",
       " 'stroke',\n",
       " 'stroke_width',\n",
       " 'tooltip',\n",
       " 'tooltip_location',\n",
       " 'tooltip_style',\n",
       " 'type',\n",
       " 'unselected_style',\n",
       " 'visible',\n",
       " 'x',\n",
       " 'y']"
      ]
     },
     "execution_count": 189,
     "metadata": {},
     "output_type": "execute_result"
    }
   ],
   "source": [
    "duration_hist.keys\n"
   ]
  },
  {
   "cell_type": "code",
   "execution_count": 190,
   "id": "fdc51404",
   "metadata": {},
   "outputs": [],
   "source": [
    "def on_selection(change):\n",
    "    if len(change['owner'].selected==1): # only allow user to select one grid\n",
    "        i,j = change['owner'].selected[0]\n",
    "        v = hist2d[i,j]\n",
    "        myLabel.value = 'Total duration in log(sec)=' + str(v)\n",
    "        # update mask based on new i,j combo\n",
    "        minLong, maxLong = long_edges[j], long_edges[j+1]\n",
    "        minLat, maxLat = lat_edges[i],lat_edges[i+1]\n",
    "        # want all the data that has long >= minLong AND long <= maxLong AND lat >= minLat AND lat <= maxLat\n",
    "        region_mask = (ufos['longitude']>=minLong) & (ufos['longitude']<=maxLong) &\\\n",
    "            (ufos['latitude']>=minLat) & (ufos['latitude']<=maxLat)\n",
    "        # update x/y based on new selection\n",
    "        #duration_scatt.x = ufos['date'][region_mask]\n",
    "        #duration_scatt.y = ufos['duration_seconds'][region_mask]\n",
    "        dur, dur_edges = np.histogram(ufos['year'][region_mask], \n",
    "                                     weights=ufos['duration_seconds'][region_mask], bins=10) \n",
    "        dur_centers = (dur_edges[:-1] + dur_edges[1:])/2 # fancy inline programming\n",
    "        duration_hist.x=dur_centers\n",
    "        duration_hist.y=dur\n",
    "        \n",
    "heat_map.observe(on_selection,'selected')"
   ]
  },
  {
   "cell_type": "code",
   "execution_count": 191,
   "id": "8eec4a39",
   "metadata": {},
   "outputs": [],
   "source": [
    "figures = ipywidgets.HBox([fig,fig_bars])\n",
    "fig.layout.min_width='400px'\n",
    "fig_bars.layout.min_width='400px'\n",
    "dashboard = ipywidgets.VBox([myLabel,figures])"
   ]
  },
  {
   "cell_type": "code",
   "execution_count": 193,
   "id": "fec1d278",
   "metadata": {},
   "outputs": [
    {
     "data": {
      "application/vnd.jupyter.widget-view+json": {
       "model_id": "5148623aa8464b64ab27a33f652aeed4",
       "version_major": 2,
       "version_minor": 0
      },
      "text/plain": [
       "VBox(children=(Label(value=''), HBox(children=(Figure(axes=[ColorAxis(orientation='vertical', scale=ColorScale…"
      ]
     },
     "metadata": {},
     "output_type": "display_data"
    }
   ],
   "source": [
    "dashboard"
   ]
  },
  {
   "cell_type": "code",
   "execution_count": null,
   "id": "6ef7084b",
   "metadata": {},
   "outputs": [],
   "source": []
  }
 ],
 "metadata": {
  "kernelspec": {
   "display_name": "Python 3 (ipykernel)",
   "language": "python",
   "name": "python3"
  },
  "language_info": {
   "codemirror_mode": {
    "name": "ipython",
    "version": 3
   },
   "file_extension": ".py",
   "mimetype": "text/x-python",
   "name": "python",
   "nbconvert_exporter": "python",
   "pygments_lexer": "ipython3",
   "version": "3.7.12"
  }
 },
 "nbformat": 4,
 "nbformat_minor": 5
}
